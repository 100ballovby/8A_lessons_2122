{
 "cells": [
  {
   "cell_type": "markdown",
   "metadata": {
    "collapsed": true
   },
   "source": [
    "## Строчки\n",
    "\n",
    "<p>Строка - это любая последовательность символов, заключенная в кавычки. Тип кавычек значения не имеет - можно использовать <code>''</code>, так и <code>\"\"</code>. <b>Самое главное правило:</b> строка начинается и заканчивается одним типом кавычек.</p>"
   ]
  },
  {
   "cell_type": "code",
   "execution_count": 2,
   "metadata": {},
   "outputs": [
    {
     "name": "stdout",
     "output_type": "stream",
     "text": [
      "<class 'str'>\n"
     ]
    }
   ],
   "source": [
    "my_string = ''\n",
    "\n",
    "print(type(my_string))  # <class 'str'>"
   ]
  },
  {
   "cell_type": "markdown",
   "metadata": {},
   "source": [
    "### Экранирование символов\n",
    "\n",
    "<p>Есть исключительный случай, когда внутри строки есть кавычки или апостроф. Есть фраза: <code>Hello, I'm a Python developer</code>, ее надо сохранить в строке.</p>\n",
    "\n",
    "<p>Проблема в том, что в ней есть апостроф, который будет мешать, если использовать одинарные кавычки.</p>"
   ]
  },
  {
   "cell_type": "code",
   "execution_count": 3,
   "metadata": {},
   "outputs": [
    {
     "ename": "SyntaxError",
     "evalue": "invalid syntax (2519651205.py, line 1)",
     "output_type": "error",
     "traceback": [
      "\u001B[0;36m  File \u001B[0;32m\"/var/folders/kg/wys5qw45109bn_kq6647wwzw0000gn/T/ipykernel_7496/2519651205.py\"\u001B[0;36m, line \u001B[0;32m1\u001B[0m\n\u001B[0;31m    print('Hello, I'm a Python developer')\u001B[0m\n\u001B[0m                    ^\u001B[0m\n\u001B[0;31mSyntaxError\u001B[0m\u001B[0;31m:\u001B[0m invalid syntax\n"
     ]
    }
   ],
   "source": [
    "print('Hello, I'm a Python developer')"
   ]
  },
  {
   "cell_type": "markdown",
   "metadata": {},
   "source": [
    "<p>Апостроф указывает, что строка как бы закончилась, но после строки почему-то есть другие символы. Есть два выхода:</p>\n",
    "\n",
    "<p>1. Использовать другой тип кавычек: <code>\"Hello, I'm a Python developer\"</code></p>"
   ]
  },
  {
   "cell_type": "code",
   "execution_count": 4,
   "metadata": {},
   "outputs": [
    {
     "name": "stdout",
     "output_type": "stream",
     "text": [
      "Hello, I'm a Python developer!\n"
     ]
    }
   ],
   "source": [
    "print(\"Hello, I'm a Python developer!\")"
   ]
  },
  {
   "cell_type": "markdown",
   "metadata": {},
   "source": [
    "<p>2. Использовать символа экранирования <code>\\</code>: <code>'Hello, I\\'m a Python developer'</code></p>"
   ]
  },
  {
   "cell_type": "code",
   "execution_count": 11,
   "metadata": {},
   "outputs": [
    {
     "name": "stdout",
     "output_type": "stream",
     "text": [
      "Hello, I'm a Python developer\n",
      "He says: \"This is my phone!\" \n"
     ]
    }
   ],
   "source": [
    "print('Hello, I\\'m a Python developer')\n",
    "\n",
    "print(\"He says: \\\"This is my phone!\\\" \")"
   ]
  },
  {
   "cell_type": "markdown",
   "metadata": {},
   "source": [
    "### Индексация строк\n",
    "\n",
    "<p>Т.к. строка - это последовательность символов, у каждого символа есть свой порядковый номер, по которому вы можете к нему обратиться и совершить с ним какую-то операцию. Порядковые номера называются <b>индексами</b>. Индексы начинают считаться с нуля.</p>\n",
    "\n",
    "<pre><p> 0 1 2 3 4 5\n",
    "<code>'П р и в е т'</code></p></pre>\n",
    "\n",
    "<p>Кавычки в индексацию не входят. В индексацию входит только то, что написано внутри.</p>"
   ]
  },
  {
   "cell_type": "code",
   "execution_count": 12,
   "metadata": {},
   "outputs": [],
   "source": [
    "phrase = 'Привет! Я разработчик!'"
   ]
  },
  {
   "cell_type": "markdown",
   "metadata": {},
   "source": [
    "<p>Для того, чтобы получить символ по индексу, нужно:</p>\n",
    "\n",
    "<ul>\n",
    "    <li>Указать имя переменной, в которой хранится строка;</li>\n",
    "    <li>поставить после имени<code>[]</code>;</li>\n",
    "    <li>в квадратных скобках указать индекс элемента, который вы хотите получить: <code>variable[3]</code>.</li>\n",
    "</ul>"
   ]
  },
  {
   "cell_type": "code",
   "execution_count": 16,
   "metadata": {},
   "outputs": [
    {
     "name": "stdout",
     "output_type": "stream",
     "text": [
      "!\n"
     ]
    }
   ],
   "source": [
    "print(phrase[6]) # обращаюсь к индексу 6"
   ]
  },
  {
   "cell_type": "markdown",
   "metadata": {},
   "source": [
    "<p>Если вы обращаетесь к индексу, которого в вашей строке нет, вы получите <code>IndexError</code>.</p>"
   ]
  },
  {
   "cell_type": "code",
   "execution_count": 17,
   "metadata": {},
   "outputs": [
    {
     "ename": "IndexError",
     "evalue": "string index out of range",
     "output_type": "error",
     "traceback": [
      "\u001B[0;31m---------------------------------------------------------------------------\u001B[0m",
      "\u001B[0;31mIndexError\u001B[0m                                Traceback (most recent call last)",
      "\u001B[0;32m/var/folders/kg/wys5qw45109bn_kq6647wwzw0000gn/T/ipykernel_7496/686004875.py\u001B[0m in \u001B[0;36m<module>\u001B[0;34m\u001B[0m\n\u001B[0;32m----> 1\u001B[0;31m \u001B[0mprint\u001B[0m\u001B[0;34m(\u001B[0m\u001B[0mphrase\u001B[0m\u001B[0;34m[\u001B[0m\u001B[0;36m34\u001B[0m\u001B[0;34m]\u001B[0m\u001B[0;34m)\u001B[0m\u001B[0;34m\u001B[0m\u001B[0;34m\u001B[0m\u001B[0m\n\u001B[0m",
      "\u001B[0;31mIndexError\u001B[0m: string index out of range"
     ]
    }
   ],
   "source": [
    "print(phrase[34])"
   ]
  },
  {
   "cell_type": "markdown",
   "metadata": {},
   "source": [
    "### Математические операции со строками\n",
    "\n",
    "<p>Со строками можно совершать математические операции.</p>\n",
    "\n",
    "<p>1. Базовая математическая операция - сложение <code>+</code>.</p>"
   ]
  },
  {
   "cell_type": "code",
   "execution_count": 20,
   "metadata": {},
   "outputs": [
    {
     "name": "stdout",
     "output_type": "stream",
     "text": [
      "ggwp\n"
     ]
    }
   ],
   "source": [
    "print('gg' + 'wp')"
   ]
  },
  {
   "cell_type": "markdown",
   "metadata": {},
   "source": [
    "<p><b>Важно понимать:</b> строчки можно складывать только со строчками <code>str + str = str</code>. Если вы сложите строку с числом, вы получите ошибку.</p>"
   ]
  },
  {
   "cell_type": "code",
   "execution_count": 21,
   "metadata": {},
   "outputs": [
    {
     "ename": "TypeError",
     "evalue": "can only concatenate str (not \"int\") to str",
     "output_type": "error",
     "traceback": [
      "\u001B[0;31m---------------------------------------------------------------------------\u001B[0m",
      "\u001B[0;31mTypeError\u001B[0m                                 Traceback (most recent call last)",
      "\u001B[0;32m/var/folders/kg/wys5qw45109bn_kq6647wwzw0000gn/T/ipykernel_7496/239271741.py\u001B[0m in \u001B[0;36m<module>\u001B[0;34m\u001B[0m\n\u001B[0;32m----> 1\u001B[0;31m \u001B[0mprint\u001B[0m\u001B[0;34m(\u001B[0m\u001B[0;34m'a'\u001B[0m \u001B[0;34m+\u001B[0m \u001B[0;36m5\u001B[0m\u001B[0;34m)\u001B[0m\u001B[0;34m\u001B[0m\u001B[0;34m\u001B[0m\u001B[0m\n\u001B[0m",
      "\u001B[0;31mTypeError\u001B[0m: can only concatenate str (not \"int\") to str"
     ]
    }
   ],
   "source": [
    "print('a' + 5)"
   ]
  },
  {
   "cell_type": "markdown",
   "metadata": {},
   "source": [
    "<p>2. Вторая математическая операция - умножение <code>*</code>.</p>"
   ]
  },
  {
   "cell_type": "code",
   "execution_count": 22,
   "metadata": {},
   "outputs": [
    {
     "name": "stdout",
     "output_type": "stream",
     "text": [
      "aaaaa\n"
     ]
    }
   ],
   "source": [
    "print('a' * 5)"
   ]
  },
  {
   "cell_type": "markdown",
   "metadata": {},
   "source": [
    "<p><b>Важно понимать:</b> строчки можно умножать только на числа <code>str * int = str (повторить int раз)</code>. Если вы умножите строку на строку, вы получите ошибку.</p>"
   ]
  },
  {
   "cell_type": "code",
   "execution_count": 23,
   "metadata": {},
   "outputs": [
    {
     "ename": "TypeError",
     "evalue": "can't multiply sequence by non-int of type 'str'",
     "output_type": "error",
     "traceback": [
      "\u001B[0;31m---------------------------------------------------------------------------\u001B[0m",
      "\u001B[0;31mTypeError\u001B[0m                                 Traceback (most recent call last)",
      "\u001B[0;32m/var/folders/kg/wys5qw45109bn_kq6647wwzw0000gn/T/ipykernel_7496/1836909612.py\u001B[0m in \u001B[0;36m<module>\u001B[0;34m\u001B[0m\n\u001B[0;32m----> 1\u001B[0;31m \u001B[0mprint\u001B[0m\u001B[0;34m(\u001B[0m\u001B[0;34m'f'\u001B[0m \u001B[0;34m*\u001B[0m \u001B[0;34m'a'\u001B[0m\u001B[0;34m)\u001B[0m\u001B[0;34m\u001B[0m\u001B[0;34m\u001B[0m\u001B[0m\n\u001B[0m",
      "\u001B[0;31mTypeError\u001B[0m: can't multiply sequence by non-int of type 'str'"
     ]
    }
   ],
   "source": [
    "print('f' * 'a')"
   ]
  },
  {
   "cell_type": "markdown",
   "metadata": {},
   "source": [
    "### Срезы строк\n",
    "\n",
    "<p><b>Срезы строк</b> - это последовательности символов, вырезанные из строки, с которыми можно работать как с новой строкой.</p>\n",
    "\n",
    "<p>Если индексы, как самостоятельная единица, нежизнеспособны, то срезы используются часто.</p>\n",
    "\n",
    "<p>Чтобы сделать срез строки, нужно:</p>\n",
    "\n",
    "<ul>\n",
    "    <li>Указать имя переменной, в которой хранится строка;</li>\n",
    "    <li>поставить после имени<code>[]</code>;</li>\n",
    "    <li>в квадратных скобках указать индекс начального элемента, а через двоеточие индекс последнего элемента: <code>variable[3:6]</code>.</li>\n",
    "</ul>\n",
    "\n",
    "<p><b>Последний индекс в срез не входит. <code>variable[3:6]</code> - это индексы 3, 4, 5.</b></p>"
   ]
  },
  {
   "cell_type": "code",
   "execution_count": 25,
   "metadata": {},
   "outputs": [
    {
     "name": "stdout",
     "output_type": "stream",
     "text": [
      "Привет!\n"
     ]
    }
   ],
   "source": [
    "print(phrase[0:7])"
   ]
  },
  {
   "cell_type": "markdown",
   "metadata": {},
   "source": [
    "<p>Если мне нужно срезать строчку сначала и ДО какого-то определенного символа, начальный индекс я могу не указывать.</p>"
   ]
  },
  {
   "cell_type": "code",
   "execution_count": 26,
   "metadata": {},
   "outputs": [
    {
     "name": "stdout",
     "output_type": "stream",
     "text": [
      "Привет!\n"
     ]
    }
   ],
   "source": [
    "print(phrase[:7])  # сначала до 7 индекса"
   ]
  },
  {
   "cell_type": "markdown",
   "metadata": {},
   "source": [
    "<p>То же самое касается случая, когда нужно срезать строку до конца:</p>"
   ]
  },
  {
   "cell_type": "code",
   "execution_count": 28,
   "metadata": {},
   "outputs": [
    {
     "name": "stdout",
     "output_type": "stream",
     "text": [
      "разработчик!\n"
     ]
    }
   ],
   "source": [
    "print(phrase[10:])  # с 10 индекса и до конца строки"
   ]
  },
  {
   "cell_type": "markdown",
   "metadata": {},
   "source": [
    "<p><b>Индексы могут быть отрицательными!</b> Если вы не знаете длину строки, а вам нужно достать из нее последний символ, вы можете указать индекс <code>-1</code></p>"
   ]
  },
  {
   "cell_type": "code",
   "execution_count": 38,
   "metadata": {},
   "outputs": [
    {
     "name": "stdout",
     "output_type": "stream",
     "text": [
      "!\n",
      "разработчик!\n"
     ]
    }
   ],
   "source": [
    "print(phrase[-1])  # последний символ !\n",
    "print(phrase[-12:])  # слово \"разработчик!\""
   ]
  },
  {
   "cell_type": "markdown",
   "metadata": {},
   "source": [
    "### Методы строк\n",
    "\n",
    "<p>Метод - это специальная функция, которая либо модернизируе объект, либо добавляет ему дополнительные свойства.</p>\n",
    "\n",
    "<p>Чтобы применить метод, нужно:</p>\n",
    "\n",
    "<ul>\n",
    "    <li>Указать имя переменной, в которой хранится объект;</li>\n",
    "    <li>поставить после имени <code>.</code> и написать название метода со скобочками в конце.;</li>\n",
    "    <li>если метод принимает аргументы, то указать их нужно внутри скобочек: <code>.index(a)</code>.</li>\n",
    "</ul>\n",
    "\n",
    "<p>1. <code>.lower()</code> - приводит все символы в строке в нижний регистр.</p>"
   ]
  },
  {
   "cell_type": "code",
   "execution_count": 41,
   "metadata": {},
   "outputs": [
    {
     "name": "stdout",
     "output_type": "stream",
     "text": [
      "False\n"
     ]
    }
   ],
   "source": [
    "user_name = 'zodiac'\n",
    "user_name2 = 'Zodiac'\n",
    "\n",
    "print(user_name == user_name2)  # эти юзернеймы разные"
   ]
  },
  {
   "cell_type": "markdown",
   "metadata": {},
   "source": [
    "<p>Юзернеймы разные, потому что большие и маленькие буквы имеют разные числовые коды в таблице ASCII.</p>\n",
    "\n",
    "<p>Я могу превратить эти юзернеймы в одинаковые путем преобразования их в нижний регистр:</p>"
   ]
  },
  {
   "cell_type": "code",
   "execution_count": 42,
   "metadata": {},
   "outputs": [
    {
     "name": "stdout",
     "output_type": "stream",
     "text": [
      "True\n"
     ]
    }
   ],
   "source": [
    "print(user_name == user_name2.lower())  # True"
   ]
  },
  {
   "cell_type": "markdown",
   "metadata": {},
   "source": [
    "<p>2. <code>.upper()</code> - приводит все символы в строке в верхний регистр.</p>"
   ]
  },
  {
   "cell_type": "code",
   "execution_count": 43,
   "metadata": {},
   "outputs": [
    {
     "name": "stdout",
     "output_type": "stream",
     "text": [
      "ПРИВЕТ\n"
     ]
    }
   ],
   "source": [
    "print('привет'.upper())"
   ]
  },
  {
   "cell_type": "markdown",
   "metadata": {},
   "source": [
    "<p>3. <code>.isupper(), .islower()</code> - проверяют, является ли символ большим или маленьким, в зависимости от метода.</p>"
   ]
  },
  {
   "cell_type": "code",
   "execution_count": 44,
   "metadata": {},
   "outputs": [
    {
     "name": "stdout",
     "output_type": "stream",
     "text": [
      "True\n",
      "True\n"
     ]
    }
   ],
   "source": [
    "print('f'.islower())  # True\n",
    "print('F'.isupper())  # True"
   ]
  },
  {
   "cell_type": "markdown",
   "metadata": {},
   "source": [
    "<p>4. <code>.isdecimal()</code> - проверяет, является ли символ десятичным числом.</p>"
   ]
  },
  {
   "cell_type": "code",
   "execution_count": 50,
   "metadata": {},
   "outputs": [
    {
     "name": "stdout",
     "output_type": "stream",
     "text": [
      "False\n",
      "True\n",
      "False\n",
      "False\n"
     ]
    }
   ],
   "source": [
    "print(''.isdecimal())  # False\n",
    "print('3564'.isdecimal())  # True\n",
    "print('c4'.isdecimal())  # False\n",
    "print('0.23'.isdecimal())  # False <- потому что есть строчная точка"
   ]
  },
  {
   "cell_type": "markdown",
   "metadata": {},
   "source": [
    "<p>5. <code>.replace(a, b)</code> - заменяет в строке символ <code>a</code> символом <code>b</code>.</p>"
   ]
  },
  {
   "cell_type": "code",
   "execution_count": 53,
   "metadata": {},
   "outputs": [
    {
     "name": "stdout",
     "output_type": "stream",
     "text": [
      "Привет! Я разработчик!\n"
     ]
    }
   ],
   "source": [
    "print(phrase)"
   ]
  },
  {
   "cell_type": "code",
   "execution_count": 54,
   "metadata": {},
   "outputs": [
    {
     "name": "stdout",
     "output_type": "stream",
     "text": [
      "Привет. Я разработчик.\n"
     ]
    }
   ],
   "source": [
    "print(phrase.replace('!', '.'))"
   ]
  },
  {
   "cell_type": "code",
   "execution_count": 55,
   "metadata": {},
   "outputs": [
    {
     "name": "stdout",
     "output_type": "stream",
     "text": [
      "Привет! Я пианист!\n"
     ]
    }
   ],
   "source": [
    "print(phrase.replace('разработчик', 'пианист'))"
   ]
  },
  {
   "cell_type": "code",
   "execution_count": 57,
   "metadata": {},
   "outputs": [
    {
     "name": "stdout",
     "output_type": "stream",
     "text": [
      "Привет! Я разработчик!\n"
     ]
    }
   ],
   "source": [
    "print(phrase.replace('?', '@'))  \n",
    "# ошибки не будет, несмотря на то, что символа ?  в строке нет"
   ]
  },
  {
   "cell_type": "markdown",
   "metadata": {},
   "source": [
    "<p>6. <code>.strip()</code> - удаляет пробелы в начале и в конце строки. Количество пробелов значения не имеет.</p>"
   ]
  },
  {
   "cell_type": "code",
   "execution_count": 60,
   "metadata": {},
   "outputs": [
    {
     "name": "stdout",
     "output_type": "stream",
     "text": [
      "Сейчас строка выглядит так: \"    Привет! У меня тут пробелы!       \".\n",
      "А сейчас строка выглядит так: \"Привет! У меня тут пробелы!\".\n"
     ]
    }
   ],
   "source": [
    "phrase2 = '    Привет! У меня тут пробелы!       '\n",
    "\n",
    "print(f'Сейчас строка выглядит так: \"{phrase2}\".')\n",
    "\n",
    "print(f'А сейчас строка выглядит так: \"{phrase2.strip()}\".')"
   ]
  }
 ],
 "metadata": {
  "kernelspec": {
   "display_name": "Python 3 (ipykernel)",
   "language": "python",
   "name": "python3"
  },
  "language_info": {
   "codemirror_mode": {
    "name": "ipython",
    "version": 3
   },
   "file_extension": ".py",
   "mimetype": "text/x-python",
   "name": "python",
   "nbconvert_exporter": "python",
   "pygments_lexer": "ipython3",
   "version": "3.7.7"
  }
 },
 "nbformat": 4,
 "nbformat_minor": 1
}