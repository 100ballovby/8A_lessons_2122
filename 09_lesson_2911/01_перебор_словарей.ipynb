{
 "cells": [
  {
   "cell_type": "markdown",
   "metadata": {
    "collapsed": true
   },
   "source": [
    "## Перебор словарей \n",
    "\n",
    "\n",
    "<p>Для перебора словарей понадобятся циклы.</p>\n",
    "<p>Для начала создаю словарь.</p>\n"
   ]
  },
  {
   "cell_type": "code",
   "execution_count": 1,
   "metadata": {},
   "outputs": [],
   "source": [
    "fav_langs = {\n",
    "    'Dima': 'Python',\n",
    "    'Mike': 'C++',\n",
    "    'Nicolas': 'Java',\n",
    "    'Sarah': 'JS',\n",
    "}"
   ]
  },
  {
   "cell_type": "markdown",
   "metadata": {},
   "source": [
    "### Перебор ключей\n",
    "\n",
    "<p>Для перебора ключей нужно использовать метод <code>.keys()</code>, который выдает список всех ключей словаря.</p>"
   ]
  },
  {
   "cell_type": "code",
   "execution_count": 2,
   "metadata": {},
   "outputs": [
    {
     "name": "stdout",
     "output_type": "stream",
     "text": [
      "dict_keys(['Dima', 'Mike', 'Nicolas', 'Sarah'])\n"
     ]
    }
   ],
   "source": [
    "print(fav_langs.keys())"
   ]
  },
  {
   "cell_type": "markdown",
   "metadata": {},
   "source": [
    "<p>Для перебора <b>ключей</b> я использую цикл <code>for</code>.</p>"
   ]
  },
  {
   "cell_type": "code",
   "execution_count": 3,
   "metadata": {},
   "outputs": [
    {
     "name": "stdout",
     "output_type": "stream",
     "text": [
      "Ключ: Dima\n",
      "Ключ: Mike\n",
      "Ключ: Nicolas\n",
      "Ключ: Sarah\n"
     ]
    }
   ],
   "source": [
    "for key in fav_langs.keys():\n",
    "    print(f'Ключ: {key}')"
   ]
  },
  {
   "cell_type": "markdown",
   "metadata": {},
   "source": [
    "### Перебор значений\n",
    "\n",
    "<p>Чтобы перебирать <b>значения</b> используется метод <code>.values()</code></p>"
   ]
  },
  {
   "cell_type": "code",
   "execution_count": 4,
   "metadata": {},
   "outputs": [
    {
     "name": "stdout",
     "output_type": "stream",
     "text": [
      "dict_values(['Python', 'C++', 'Java', 'JS'])\n"
     ]
    }
   ],
   "source": [
    "print(fav_langs.values())"
   ]
  },
  {
   "cell_type": "markdown",
   "metadata": {},
   "source": [
    "<p>Для перебора подставим список ключей циклу <code>for</code> в качестве последовательности.</p>"
   ]
  },
  {
   "cell_type": "code",
   "execution_count": 5,
   "metadata": {},
   "outputs": [
    {
     "name": "stdout",
     "output_type": "stream",
     "text": [
      "Значение: Python\n",
      "Значение: C++\n",
      "Значение: Java\n",
      "Значение: JS\n"
     ]
    }
   ],
   "source": [
    "for value in fav_langs.values():\n",
    "    print(f'Значение: {value}')"
   ]
  },
  {
   "cell_type": "markdown",
   "metadata": {},
   "source": [
    "<p>Пары можно перебирать одновременно. Для этого используется метод <code>.items()</code>, который возвращает список кортежей, состоящих из ключа и значения.</p>"
   ]
  },
  {
   "cell_type": "code",
   "execution_count": 8,
   "metadata": {},
   "outputs": [
    {
     "name": "stdout",
     "output_type": "stream",
     "text": [
      "dict_items([('Dima', 'Python'), ('Mike', 'C++'), ('Nicolas', 'Java'), ('Sarah', 'JS')])\n"
     ]
    }
   ],
   "source": [
    "print(fav_langs.items())"
   ]
  },
  {
   "cell_type": "markdown",
   "metadata": {},
   "source": [
    "<p>Для распаковки полученных кортежей я создам две переменные в цикле <code>for</code>.</p>"
   ]
  },
  {
   "cell_type": "code",
   "execution_count": 10,
   "metadata": {},
   "outputs": [
    {
     "name": "stdout",
     "output_type": "stream",
     "text": [
      "Dima's favorite language is Python.\n",
      "Mike's favorite language is C++.\n",
      "Nicolas's favorite language is Java.\n",
      "Sarah's favorite language is JS.\n"
     ]
    }
   ],
   "source": [
    "for key, value in fav_langs.items():\n",
    "    print(f\"{key}'s favorite language is {value}.\")"
   ]
  },
  {
   "cell_type": "code",
   "execution_count": null,
   "metadata": {},
   "outputs": [],
   "source": []
  }
 ],
 "metadata": {
  "kernelspec": {
   "display_name": "Python 3 (ipykernel)",
   "language": "python",
   "name": "python3"
  },
  "language_info": {
   "codemirror_mode": {
    "name": "ipython",
    "version": 3
   },
   "file_extension": ".py",
   "mimetype": "text/x-python",
   "name": "python",
   "nbconvert_exporter": "python",
   "pygments_lexer": "ipython3",
   "version": "3.7.7"
  }
 },
 "nbformat": 4,
 "nbformat_minor": 1
}